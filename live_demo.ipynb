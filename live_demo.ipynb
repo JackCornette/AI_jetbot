{
 "cells": [
  {
   "cell_type": "markdown",
   "metadata": {},
   "source": [
    "# Road Following - Live demo"
   ]
  },
  {
   "cell_type": "markdown",
   "metadata": {},
   "source": [
    "In this notebook, we will use model we trained to move jetBot smoothly on track. "
   ]
  },
  {
   "cell_type": "markdown",
   "metadata": {},
   "source": [
    "### Load Trained Model"
   ]
  },
  {
   "cell_type": "markdown",
   "metadata": {},
   "source": [
    "We will assume that you have already downloaded ``best_steering_model_xy.pth`` to work station as instructed in \"train_model.ipynb\" notebook. Now, you should upload model file to JetBot in to this notebook's directory. Once that's finished there should be a file named ``best_steering_model_xy.pth`` in this notebook's directory."
   ]
  },
  {
   "cell_type": "markdown",
   "metadata": {},
   "source": [
    "> Please make sure the file has uploaded fully before calling the next cell"
   ]
  },
  {
   "cell_type": "markdown",
   "metadata": {},
   "source": [
    "Execute the code below to initialize the PyTorch model. This should look very familiar from the training notebook."
   ]
  },
  {
   "cell_type": "code",
   "execution_count": 1,
   "metadata": {},
   "outputs": [],
   "source": [
    "import torchvision\n",
    "import torch\n",
    "import torch.nn as nn\n",
    "\n",
    "# model = torchvision.models.resnet18(pretrained=True)\n",
    "# model.fc = torch.nn.Linear(512, 2)\n",
    "# Load the MobileNet model pre-trained on ImageNet\n",
    "# model = torchvision.models.mobilenet_v2(pretrained=True)\n",
    "# model.classifier[1] = nn.Linear(1280, 2)\n",
    "\n",
    "# model = torchvision.models.alexnet(pretrained=True)\n",
    "\n",
    "# # Replace the last layer of the classifier for regression; the last layer has 4096 inputs\n",
    "# model.classifier[6] = nn.Linear(4096, 2)\n",
    "# print(model)\n",
    "# model.classifier[1] = nn.Linear(1280, 2)\n",
    "model = torchvision.models.squeezenet1_0(pretrained=True)\n",
    "model.classifier[1] = nn.Conv2d(512, 2, kernel_size=(1,1), stride=(1,1)) "
   ]
  },
  {
   "cell_type": "markdown",
   "metadata": {},
   "source": [
    "Next, load the trained weights from the ``best_steering_model_xy.pth`` file that you uploaded."
   ]
  },
  {
   "cell_type": "code",
   "execution_count": 2,
   "metadata": {},
   "outputs": [
    {
     "data": {
      "text/plain": [
       "<All keys matched successfully>"
      ]
     },
     "execution_count": 2,
     "metadata": {},
     "output_type": "execute_result"
    }
   ],
   "source": [
    "model.load_state_dict(torch.load('squeeze_steering_model_xy.pth'))"
   ]
  },
  {
   "cell_type": "markdown",
   "metadata": {},
   "source": [
    "Currently, the model weights are located on the CPU memory execute the code below to transfer to the GPU device."
   ]
  },
  {
   "cell_type": "code",
   "execution_count": 3,
   "metadata": {},
   "outputs": [
    {
     "name": "stdout",
     "output_type": "stream",
     "text": [
      "SqueezeNet(\n",
      "  (features): Sequential(\n",
      "    (0): Conv2d(3, 96, kernel_size=(7, 7), stride=(2, 2))\n",
      "    (1): ReLU(inplace=True)\n",
      "    (2): MaxPool2d(kernel_size=3, stride=2, padding=0, dilation=1, ceil_mode=True)\n",
      "    (3): Fire(\n",
      "      (squeeze): Conv2d(96, 16, kernel_size=(1, 1), stride=(1, 1))\n",
      "      (squeeze_activation): ReLU(inplace=True)\n",
      "      (expand1x1): Conv2d(16, 64, kernel_size=(1, 1), stride=(1, 1))\n",
      "      (expand1x1_activation): ReLU(inplace=True)\n",
      "      (expand3x3): Conv2d(16, 64, kernel_size=(3, 3), stride=(1, 1), padding=(1, 1))\n",
      "      (expand3x3_activation): ReLU(inplace=True)\n",
      "    )\n",
      "    (4): Fire(\n",
      "      (squeeze): Conv2d(128, 16, kernel_size=(1, 1), stride=(1, 1))\n",
      "      (squeeze_activation): ReLU(inplace=True)\n",
      "      (expand1x1): Conv2d(16, 64, kernel_size=(1, 1), stride=(1, 1))\n",
      "      (expand1x1_activation): ReLU(inplace=True)\n",
      "      (expand3x3): Conv2d(16, 64, kernel_size=(3, 3), stride=(1, 1), padding=(1, 1))\n",
      "      (expand3x3_activation): ReLU(inplace=True)\n",
      "    )\n",
      "    (5): Fire(\n",
      "      (squeeze): Conv2d(128, 32, kernel_size=(1, 1), stride=(1, 1))\n",
      "      (squeeze_activation): ReLU(inplace=True)\n",
      "      (expand1x1): Conv2d(32, 128, kernel_size=(1, 1), stride=(1, 1))\n",
      "      (expand1x1_activation): ReLU(inplace=True)\n",
      "      (expand3x3): Conv2d(32, 128, kernel_size=(3, 3), stride=(1, 1), padding=(1, 1))\n",
      "      (expand3x3_activation): ReLU(inplace=True)\n",
      "    )\n",
      "    (6): MaxPool2d(kernel_size=3, stride=2, padding=0, dilation=1, ceil_mode=True)\n",
      "    (7): Fire(\n",
      "      (squeeze): Conv2d(256, 32, kernel_size=(1, 1), stride=(1, 1))\n",
      "      (squeeze_activation): ReLU(inplace=True)\n",
      "      (expand1x1): Conv2d(32, 128, kernel_size=(1, 1), stride=(1, 1))\n",
      "      (expand1x1_activation): ReLU(inplace=True)\n",
      "      (expand3x3): Conv2d(32, 128, kernel_size=(3, 3), stride=(1, 1), padding=(1, 1))\n",
      "      (expand3x3_activation): ReLU(inplace=True)\n",
      "    )\n",
      "    (8): Fire(\n",
      "      (squeeze): Conv2d(256, 48, kernel_size=(1, 1), stride=(1, 1))\n",
      "      (squeeze_activation): ReLU(inplace=True)\n",
      "      (expand1x1): Conv2d(48, 192, kernel_size=(1, 1), stride=(1, 1))\n",
      "      (expand1x1_activation): ReLU(inplace=True)\n",
      "      (expand3x3): Conv2d(48, 192, kernel_size=(3, 3), stride=(1, 1), padding=(1, 1))\n",
      "      (expand3x3_activation): ReLU(inplace=True)\n",
      "    )\n",
      "    (9): Fire(\n",
      "      (squeeze): Conv2d(384, 48, kernel_size=(1, 1), stride=(1, 1))\n",
      "      (squeeze_activation): ReLU(inplace=True)\n",
      "      (expand1x1): Conv2d(48, 192, kernel_size=(1, 1), stride=(1, 1))\n",
      "      (expand1x1_activation): ReLU(inplace=True)\n",
      "      (expand3x3): Conv2d(48, 192, kernel_size=(3, 3), stride=(1, 1), padding=(1, 1))\n",
      "      (expand3x3_activation): ReLU(inplace=True)\n",
      "    )\n",
      "    (10): Fire(\n",
      "      (squeeze): Conv2d(384, 64, kernel_size=(1, 1), stride=(1, 1))\n",
      "      (squeeze_activation): ReLU(inplace=True)\n",
      "      (expand1x1): Conv2d(64, 256, kernel_size=(1, 1), stride=(1, 1))\n",
      "      (expand1x1_activation): ReLU(inplace=True)\n",
      "      (expand3x3): Conv2d(64, 256, kernel_size=(3, 3), stride=(1, 1), padding=(1, 1))\n",
      "      (expand3x3_activation): ReLU(inplace=True)\n",
      "    )\n",
      "    (11): MaxPool2d(kernel_size=3, stride=2, padding=0, dilation=1, ceil_mode=True)\n",
      "    (12): Fire(\n",
      "      (squeeze): Conv2d(512, 64, kernel_size=(1, 1), stride=(1, 1))\n",
      "      (squeeze_activation): ReLU(inplace=True)\n",
      "      (expand1x1): Conv2d(64, 256, kernel_size=(1, 1), stride=(1, 1))\n",
      "      (expand1x1_activation): ReLU(inplace=True)\n",
      "      (expand3x3): Conv2d(64, 256, kernel_size=(3, 3), stride=(1, 1), padding=(1, 1))\n",
      "      (expand3x3_activation): ReLU(inplace=True)\n",
      "    )\n",
      "  )\n",
      "  (classifier): Sequential(\n",
      "    (0): Dropout(p=0.5, inplace=False)\n",
      "    (1): Conv2d(512, 2, kernel_size=(1, 1), stride=(1, 1))\n",
      "    (2): ReLU(inplace=True)\n",
      "    (3): AdaptiveAvgPool2d(output_size=(1, 1))\n",
      "  )\n",
      ")\n"
     ]
    }
   ],
   "source": [
    "device = torch.device('cuda')\n",
    "model = model.to(device)\n",
    "model = model.eval().half()\n",
    "print(model)"
   ]
  },
  {
   "cell_type": "markdown",
   "metadata": {},
   "source": [
    "### Creating the Pre-Processing Function"
   ]
  },
  {
   "cell_type": "markdown",
   "metadata": {},
   "source": [
    "We have now loaded our model, but there's a slight issue. The format that we trained our model doesn't exactly match the format of the camera. To do that, we need to do some preprocessing. This involves the following steps:\n",
    "\n",
    "1. Convert from HWC layout to CHW layout\n",
    "2. Normalize using same parameters as we did during training (our camera provides values in [0, 255] range and training loaded images in [0, 1] range so we need to scale by 255.0\n",
    "3. Transfer the data from CPU memory to GPU memory\n",
    "4. Add a batch dimension"
   ]
  },
  {
   "cell_type": "code",
   "execution_count": 4,
   "metadata": {},
   "outputs": [],
   "source": [
    "import torchvision.transforms as transforms\n",
    "import torch.nn.functional as F\n",
    "import cv2\n",
    "import PIL.Image\n",
    "import numpy as np\n",
    "\n",
    "mean = torch.Tensor([0.485, 0.456, 0.406]).cuda().half()\n",
    "std = torch.Tensor([0.229, 0.224, 0.225]).cuda().half()\n",
    "\n",
    "def preprocess(image):\n",
    "#     print(image.shape)\n",
    "#     image = image[:,143:,:]\n",
    "#     print(image.shape)\n",
    "#     box = (0, 224 // 2.75, 224, 224 // 2 + 112)\n",
    "#     image = image.crop(box)\n",
    "    image = PIL.Image.fromarray(image)\n",
    "    image = transforms.functional.to_tensor(image).to(device).half()\n",
    "    image.sub_(mean[:, None, None]).div_(std[:, None, None])\n",
    "    return image[None, ...]"
   ]
  },
  {
   "cell_type": "markdown",
   "metadata": {},
   "source": [
    "Awesome! We've now defined our pre-processing function which can convert images from the camera format to the neural network input format.\n",
    "\n",
    "Now, let's start and display our camera. You should be pretty familiar with this by now. "
   ]
  },
  {
   "cell_type": "code",
   "execution_count": 5,
   "metadata": {},
   "outputs": [
    {
     "data": {
      "application/vnd.jupyter.widget-view+json": {
       "model_id": "06964301b4a64882a270d504f4af71d0",
       "version_major": 2,
       "version_minor": 0
      },
      "text/plain": [
       "Image(value=b'\\xff\\xd8\\xff\\xe0\\x00\\x10JFIF\\x00\\x01\\x01\\x00\\x00\\x01\\x00\\x01\\x00\\x00\\xff\\xdb\\x00C\\x00\\x02\\x01\\x0…"
      ]
     },
     "metadata": {},
     "output_type": "display_data"
    }
   ],
   "source": [
    "from IPython.display import display\n",
    "import ipywidgets\n",
    "import traitlets\n",
    "from jetbot import Camera, bgr8_to_jpeg\n",
    "\n",
    "camera = Camera()\n",
    "\n",
    "image_widget = ipywidgets.Image()\n",
    "\n",
    "traitlets.dlink((camera, 'value'), (image_widget, 'value'), transform=bgr8_to_jpeg)\n",
    "\n",
    "display(image_widget)"
   ]
  },
  {
   "cell_type": "markdown",
   "metadata": {},
   "source": [
    "We'll also create our robot instance which we'll need to drive the motors."
   ]
  },
  {
   "cell_type": "code",
   "execution_count": 6,
   "metadata": {},
   "outputs": [],
   "source": [
    "from jetbot import Robot\n",
    "\n",
    "robot = Robot()"
   ]
  },
  {
   "cell_type": "markdown",
   "metadata": {},
   "source": [
    "Now, we will define sliders to control JetBot\n",
    "> Note: We have initialize the slider values for best known configurations, however these might not work for your dataset, therefore please increase or decrease the sliders according to your setup and environment\n",
    "\n",
    "1. Speed Control (speed_gain_slider): To start your JetBot increase ``speed_gain_slider`` \n",
    "2. Steering Gain Control (steering_gain_slider): If you see JetBot is wobbling, you need to reduce ``steering_gain_slider`` till it is smooth\n",
    "3. Steering Bias control (steering_bias_slider): If you see JetBot is biased towards extreme right or extreme left side of the track, you should control this slider till JetBot start following line or track in the center.  This accounts for motor biases as well as camera offsets\n",
    "\n",
    "> Note: You should play around above mentioned sliders with lower speed to get smooth JetBot road following behavior."
   ]
  },
  {
   "cell_type": "code",
   "execution_count": 7,
   "metadata": {},
   "outputs": [
    {
     "data": {
      "application/vnd.jupyter.widget-view+json": {
       "model_id": "b2c77751fab04035a21b5121bb98cd53",
       "version_major": 2,
       "version_minor": 0
      },
      "text/plain": [
       "FloatSlider(value=0.22, description='speed gain', max=1.0, step=0.01)"
      ]
     },
     "metadata": {},
     "output_type": "display_data"
    },
    {
     "data": {
      "application/vnd.jupyter.widget-view+json": {
       "model_id": "379a4969ca614a7ab230900f183bdf1f",
       "version_major": 2,
       "version_minor": 0
      },
      "text/plain": [
       "FloatSlider(value=0.08, description='steering gain', max=1.0, step=0.01)"
      ]
     },
     "metadata": {},
     "output_type": "display_data"
    },
    {
     "data": {
      "application/vnd.jupyter.widget-view+json": {
       "model_id": "25819ea8eba14c539d1a7dbd59fe1f16",
       "version_major": 2,
       "version_minor": 0
      },
      "text/plain": [
       "FloatSlider(value=0.08, description='steering kd', max=0.5, step=0.001)"
      ]
     },
     "metadata": {},
     "output_type": "display_data"
    },
    {
     "data": {
      "application/vnd.jupyter.widget-view+json": {
       "model_id": "9b47e1706e5c4ef8807052d4b52715b1",
       "version_major": 2,
       "version_minor": 0
      },
      "text/plain": [
       "FloatSlider(value=0.0, description='steering bias', max=0.3, min=-0.3, step=0.01)"
      ]
     },
     "metadata": {},
     "output_type": "display_data"
    }
   ],
   "source": [
    "speed_gain_slider = ipywidgets.FloatSlider(min=0.0, max=1.0, step=0.01, value=0.22, description='speed gain')\n",
    "steering_gain_slider = ipywidgets.FloatSlider(min=0.0, max=1.0, step=0.01, value=0.08, description='steering gain')\n",
    "steering_dgain_slider = ipywidgets.FloatSlider(min=0.0, max=0.5, step=0.001, value=0.08, description='steering kd')\n",
    "steering_bias_slider = ipywidgets.FloatSlider(min=-0.3, max=0.3, step=0.01, value=0.00, description='steering bias')\n",
    "\n",
    "display(speed_gain_slider, steering_gain_slider, steering_dgain_slider, steering_bias_slider)"
   ]
  },
  {
   "cell_type": "markdown",
   "metadata": {},
   "source": [
    "Next, let's display some sliders that will let us see what JetBot is thinking.  The x and y sliders will display the predicted x, y values.\n",
    "\n",
    "The steering slider will display our estimated steering value.  Please remember, this value isn't the actual angle of the target, but simply a value that is\n",
    "nearly proportional.  When the actual angle is ``0``, this will be zero, and it will increase / decrease with the actual angle.  "
   ]
  },
  {
   "cell_type": "code",
   "execution_count": 8,
   "metadata": {},
   "outputs": [
    {
     "data": {
      "application/vnd.jupyter.widget-view+json": {
       "model_id": "625481485f684706bf9cfd98f83a872b",
       "version_major": 2,
       "version_minor": 0
      },
      "text/plain": [
       "HBox(children=(FloatSlider(value=0.0, description='y', max=1.0, orientation='vertical'), FloatSlider(value=0.0…"
      ]
     },
     "metadata": {},
     "output_type": "display_data"
    },
    {
     "data": {
      "application/vnd.jupyter.widget-view+json": {
       "model_id": "a958538a0bd24fde9e4c99b7205aec66",
       "version_major": 2,
       "version_minor": 0
      },
      "text/plain": [
       "FloatSlider(value=0.0, description='x', max=1.0, min=-1.0)"
      ]
     },
     "metadata": {},
     "output_type": "display_data"
    },
    {
     "data": {
      "application/vnd.jupyter.widget-view+json": {
       "model_id": "ce83dc9ad70c47bcad223d92d4dcded8",
       "version_major": 2,
       "version_minor": 0
      },
      "text/plain": [
       "FloatSlider(value=0.0, description='steering', max=1.0, min=-1.0)"
      ]
     },
     "metadata": {},
     "output_type": "display_data"
    }
   ],
   "source": [
    "x_slider = ipywidgets.FloatSlider(min=-1.0, max=1.0, description='x')\n",
    "y_slider = ipywidgets.FloatSlider(min=0, max=1.0, orientation='vertical', description='y')\n",
    "steering_slider = ipywidgets.FloatSlider(min=-1.0, max=1.0, description='steering')\n",
    "speed_slider = ipywidgets.FloatSlider(min=0, max=1.0, orientation='vertical', description='speed')\n",
    "\n",
    "display(ipywidgets.HBox([y_slider, speed_slider]))\n",
    "display(x_slider, steering_slider)"
   ]
  },
  {
   "cell_type": "markdown",
   "metadata": {},
   "source": [
    "Next, we'll create a function that will get called whenever the camera's value changes. This function will do the following steps\n",
    "\n",
    "1. Pre-process the camera image\n",
    "2. Execute the neural network\n",
    "3. Compute the approximate steering value\n",
    "4. Control the motors using proportional / derivative control (PD)"
   ]
  },
  {
   "cell_type": "code",
   "execution_count": 9,
   "metadata": {},
   "outputs": [
    {
     "name": "stdout",
     "output_type": "stream",
     "text": [
      "0.0 0.18505859375\n"
     ]
    }
   ],
   "source": [
    "angle = 0.0\n",
    "angle_last = 0.0\n",
    "\n",
    "def execute(change):\n",
    "    global angle, angle_last\n",
    "    image = change['new']\n",
    "    xy = model(preprocess(image)).detach().float().cpu().numpy().flatten()\n",
    "    x = xy[0]\n",
    "    y = (0.5 - xy[1]) / 2.0\n",
    "    print(x, y)\n",
    "    \n",
    "    x_slider.value = x\n",
    "    y_slider.value = y\n",
    "    \n",
    "    speed_slider.value = speed_gain_slider.value\n",
    "    \n",
    "    angle = np.arctan2(x, y)\n",
    "    pid = angle * steering_gain_slider.value + (angle - angle_last) * steering_dgain_slider.value\n",
    "    angle_last = angle\n",
    "    \n",
    "    steering_slider.value = pid + steering_bias_slider.value\n",
    "    \n",
    "    robot.left_motor.value = max(min(speed_slider.value + steering_slider.value, 1.0), 0.0)\n",
    "    robot.right_motor.value = max(min(speed_slider.value - steering_slider.value, 1.0), 0.0)\n",
    "    \n",
    "execute({'new': camera.value})"
   ]
  },
  {
   "cell_type": "markdown",
   "metadata": {},
   "source": [
    "Cool! We've created our neural network execution function, but now we need to attach it to the camera for processing.\n",
    "\n",
    "We accomplish that with the observe function."
   ]
  },
  {
   "cell_type": "markdown",
   "metadata": {},
   "source": [
    ">WARNING: This code will move the robot!! Please make sure your robot has clearance and it is on Lego or Track you have collected data on. The road follower should work, but the neural network is only as good as the data it's trained on!"
   ]
  },
  {
   "cell_type": "code",
   "execution_count": 10,
   "metadata": {},
   "outputs": [
    {
     "name": "stdout",
     "output_type": "stream",
     "text": [
      "0.0 0.194580078125\n",
      "0.0 0.195220947265625\n",
      "0.0 0.193634033203125\n",
      "0.0 0.1925048828125\n",
      "0.0 0.19232177734375\n",
      "0.0 0.192626953125\n",
      "0.0 0.193572998046875\n",
      "0.0 0.194854736328125\n",
      "0.0 0.193267822265625\n",
      "0.0 0.19281005859375\n",
      "0.0 0.1917724609375\n",
      "0.0 0.18902587890625\n",
      "0.0 0.190673828125\n",
      "0.0 0.189849853515625\n",
      "0.0 0.1884765625\n",
      "0.0 0.18798828125\n",
      "0.0 0.18743896484375\n",
      "0.0 0.18731689453125\n",
      "0.0 0.18634033203125\n",
      "0.0 0.188720703125\n",
      "0.0 0.1893310546875\n",
      "0.0 0.19244384765625\n",
      "0.0 0.190826416015625\n",
      "0.0 0.191131591796875\n",
      "0.0 0.192291259765625\n",
      "0.0 0.1929931640625\n",
      "0.0 0.19354248046875\n",
      "0.0 0.196258544921875\n",
      "0.0 0.192779541015625\n",
      "0.0 0.191864013671875\n",
      "0.0 0.189483642578125\n",
      "0.0 0.190399169921875\n",
      "0.0 0.189483642578125\n",
      "0.0 0.1898193359375\n",
      "0.0 0.190185546875\n",
      "0.0 0.18817138671875\n",
      "0.0 0.1890869140625\n",
      "0.0 0.18804931640625\n",
      "0.0 0.1884765625\n",
      "0.0 0.1884765625\n",
      "0.0 0.189971923828125\n",
      "0.0 0.189849853515625\n",
      "0.0 0.188812255859375\n",
      "0.0 0.1883544921875\n",
      "0.0 0.188018798828125\n",
      "0.0 0.18914794921875\n",
      "0.0 0.188934326171875\n",
      "0.0 0.18853759765625\n",
      "0.0 0.18817138671875\n",
      "0.0 0.188720703125\n",
      "0.0 0.189910888671875\n",
      "0.0 0.19036865234375\n",
      "0.0 0.191925048828125\n",
      "0.0 0.191070556640625\n",
      "0.0 0.192596435546875\n",
      "0.0 0.19244384765625\n",
      "0.0 0.19329833984375\n",
      "0.0 0.193511962890625\n",
      "0.0 0.193023681640625\n",
      "0.0 0.19476318359375\n",
      "0.0 0.19573974609375\n",
      "0.0 0.19696044921875\n",
      "0.0 0.198150634765625\n",
      "0.0 0.197235107421875\n",
      "0.0 0.1982421875\n",
      "0.0 0.196563720703125\n",
      "0.0 0.1968994140625\n",
      "0.0 0.196380615234375\n",
      "0.0 0.194183349609375\n",
      "0.0 0.194427490234375\n",
      "0.0 0.193328857421875\n",
      "0.0 0.191131591796875\n",
      "0.0 0.19085693359375\n",
      "0.0 0.189788818359375\n",
      "0.0 0.189300537109375\n",
      "0.0 0.191131591796875\n",
      "0.0 0.190765380859375\n",
      "0.0 0.192718505859375\n",
      "0.0 0.19183349609375\n",
      "0.0 0.190948486328125\n",
      "0.0 0.18975830078125\n",
      "0.0 0.185546875\n",
      "0.0 0.18408203125\n",
      "0.0 0.187255859375\n",
      "0.0 0.188262939453125\n",
      "0.0 0.189178466796875\n",
      "0.0 0.19024658203125\n",
      "0.0 0.18743896484375\n",
      "0.0 0.19061279296875\n",
      "0.0 0.189422607421875\n",
      "0.0 0.19464111328125\n",
      "0.0 0.1947021484375\n",
      "0.0 0.195648193359375\n",
      "0.0 0.19830322265625\n",
      "0.0 0.198944091796875\n",
      "0.0 0.19879150390625\n",
      "0.0 0.198486328125\n",
      "0.0 0.19708251953125\n",
      "0.0 0.199127197265625\n",
      "0.0 0.200958251953125\n",
      "0.0 0.201751708984375\n",
      "0.0 0.203155517578125\n",
      "0.0 0.20538330078125\n",
      "0.0 0.203216552734375\n",
      "0.0 0.200103759765625\n",
      "0.0 0.200347900390625\n",
      "0.0 0.19805908203125\n",
      "0.0 0.19757080078125\n",
      "0.0 0.197662353515625\n",
      "0.0 0.19854736328125\n",
      "0.0 0.19964599609375\n",
      "0.0 0.1968994140625\n",
      "0.0 0.1949462890625\n",
      "0.0 0.199127197265625\n",
      "0.0 0.198974609375\n",
      "0.0 0.196075439453125\n",
      "0.0 0.19415283203125\n",
      "0.0 0.192840576171875\n",
      "0.0 0.19500732421875\n",
      "0.0 0.196319580078125\n",
      "0.0 0.19561767578125\n",
      "0.0 0.195648193359375\n",
      "0.0 0.19879150390625\n",
      "0.0 0.199554443359375\n",
      "0.0 0.195892333984375\n",
      "0.0 0.1959228515625\n",
      "0.0 0.1949462890625\n",
      "0.0 0.197296142578125\n",
      "0.0 0.200958251953125\n",
      "0.0 0.202972412109375\n",
      "0.0 0.20318603515625\n",
      "0.0 0.203521728515625\n",
      "0.0 0.20379638671875\n",
      "0.0 0.20721435546875\n",
      "0.0 0.20526123046875\n",
      "0.0 0.20550537109375\n",
      "0.0 0.20257568359375\n",
      "0.0 0.204193115234375\n",
      "0.0 0.204498291015625\n",
      "0.0 0.210784912109375\n",
      "0.0 0.20745849609375\n",
      "0.0 0.20654296875\n",
      "0.0 0.20477294921875\n",
      "0.0 0.202911376953125\n",
      "0.0 0.20062255859375\n",
      "0.0 0.204833984375\n",
      "0.0 0.206085205078125\n",
      "0.0 0.20892333984375\n",
      "0.0 0.208526611328125\n",
      "0.0 0.208251953125\n",
      "0.0 0.207550048828125\n",
      "0.0 0.20733642578125\n",
      "0.0 0.208526611328125\n",
      "0.0 0.210540771484375\n",
      "0.0 0.206451416015625\n",
      "0.0 0.207305908203125\n",
      "0.0 0.20941162109375\n",
      "0.0 0.20806884765625\n",
      "0.0 0.202545166015625\n",
      "0.0 0.2042236328125\n",
      "0.0 0.203521728515625\n",
      "0.0 0.200286865234375\n",
      "0.0 0.204315185546875\n",
      "0.0 0.20367431640625\n",
      "0.0 0.200408935546875\n",
      "0.0 0.201995849609375\n",
      "0.0 0.20172119140625\n",
      "0.0 0.20489501953125\n",
      "0.0 0.20489501953125\n",
      "0.0 0.20458984375\n",
      "0.0 0.2025146484375\n",
      "0.0 0.203948974609375\n",
      "0.0 0.20196533203125\n",
      "0.0 0.201751708984375\n",
      "0.0 0.2056884765625\n",
      "0.0 0.20660400390625\n",
      "0.0 0.207672119140625\n",
      "0.0 0.20904541015625\n",
      "0.0 0.208984375\n",
      "0.0 0.20916748046875\n",
      "0.0 0.2108154296875\n",
      "0.0 0.215423583984375\n",
      "0.0 0.216217041015625\n",
      "0.0 0.2113037109375\n",
      "0.0 0.217071533203125\n",
      "0.0 0.2249603271484375\n",
      "0.0 0.222930908203125\n",
      "0.0 0.2208709716796875\n",
      "0.0 0.2226715087890625\n",
      "0.0 0.211883544921875\n",
      "0.0 0.2169189453125\n",
      "0.0 0.213287353515625\n",
      "0.0 0.214385986328125\n",
      "0.0 0.212493896484375\n",
      "0.0 0.210784912109375\n",
      "0.0 0.21124267578125\n",
      "0.0 0.21112060546875\n",
      "0.0 0.212371826171875\n",
      "0.0 0.21588134765625\n",
      "0.0 0.215240478515625\n",
      "0.0 0.21551513671875\n",
      "0.0 0.215362548828125\n",
      "0.0 0.214141845703125\n",
      "0.0 0.213134765625\n",
      "0.0 0.215789794921875\n",
      "0.0 0.215667724609375\n",
      "0.0 0.2188720703125\n",
      "0.0 0.2188568115234375\n",
      "0.0 0.2197113037109375\n",
      "0.0 0.2204742431640625\n",
      "0.0 0.2218017578125\n",
      "0.0 0.2218475341796875\n",
      "0.0 0.2205963134765625\n",
      "0.0 0.2204742431640625\n",
      "0.0 0.222564697265625\n",
      "0.0 0.22119140625\n",
      "0.0 0.21856689453125\n",
      "0.0 0.21661376953125\n",
      "0.0 0.216278076171875\n",
      "0.0 0.217987060546875\n",
      "0.0 0.2196197509765625\n",
      "0.0 0.217681884765625\n",
      "0.0 0.217559814453125\n",
      "0.0 0.218505859375\n",
      "0.0 0.218597412109375\n",
      "0.0 0.218017578125\n",
      "0.0 0.21630859375\n",
      "0.0 0.21551513671875\n",
      "0.0 0.215789794921875\n",
      "0.0 0.221466064453125\n",
      "0.0 0.2200164794921875\n",
      "0.0 0.2210235595703125\n",
      "0.0 0.220123291015625\n",
      "0.0 0.21832275390625\n",
      "0.0 0.21844482421875\n",
      "0.0 0.217864990234375\n",
      "0.0 0.21844482421875\n",
      "0.0 0.216949462890625\n",
      "0.0 0.217132568359375\n",
      "0.0 0.217010498046875\n",
      "0.0 0.217681884765625\n",
      "0.0 0.218963623046875\n",
      "0.0 0.21612548828125\n",
      "0.0 0.217132568359375\n",
      "0.0 0.217559814453125\n",
      "0.0 0.217742919921875\n",
      "0.0 0.217620849609375\n",
      "0.0 0.216461181640625\n",
      "0.0 0.21636962890625\n",
      "0.0 0.215576171875\n",
      "0.0 0.216400146484375\n",
      "0.0 0.216217041015625\n",
      "0.0 0.215362548828125\n",
      "0.0 0.21630859375\n",
      "0.0 0.2159423828125\n",
      "0.0 0.216522216796875\n",
      "0.0 0.21490478515625\n",
      "0.0 0.2190093994140625\n",
      "0.0 0.22076416015625\n",
      "0.0 0.217987060546875\n",
      "0.0 0.217559814453125\n",
      "0.0 0.21771240234375\n",
      "0.0 0.21942138671875\n",
      "0.0 0.2194976806640625\n",
      "0.0 0.218414306640625\n",
      "0.0 0.218048095703125\n",
      "0.0 0.217071533203125\n",
      "0.0 0.2171630859375\n",
      "0.0 0.216827392578125\n",
      "0.0 0.21875\n",
      "0.0 0.2211151123046875\n",
      "0.0 0.222076416015625\n",
      "0.0 0.2218475341796875\n",
      "0.0 0.2218170166015625\n",
      "0.0 0.2194976806640625\n",
      "0.0 0.218658447265625\n",
      "0.0 0.218658447265625\n",
      "0.0 0.216400146484375\n",
      "0.0 0.21661376953125\n",
      "0.0 0.218170166015625\n",
      "0.0 0.217071533203125\n",
      "0.0 0.21832275390625\n",
      "0.0 0.218017578125\n",
      "0.0 0.21905517578125\n",
      "0.0 0.217315673828125\n",
      "0.0 0.216583251953125\n",
      "0.0 0.21514892578125\n",
      "0.0 0.217315673828125\n",
      "0.0 0.219207763671875\n",
      "0.0 0.2199249267578125\n",
      "0.0 0.2196044921875\n",
      "0.0 0.220489501953125\n",
      "0.0 0.218017578125\n",
      "0.0 0.2210845947265625\n",
      "0.0 0.221954345703125\n",
      "0.0 0.2197418212890625\n",
      "0.0 0.2215728759765625\n",
      "0.0 0.2239227294921875\n",
      "0.0 0.2256011962890625\n",
      "0.0 0.222381591796875\n",
      "0.0 0.22235107421875\n",
      "0.0 0.2201995849609375\n",
      "0.0 0.22100830078125\n",
      "0.0 0.215423583984375\n",
      "0.0 0.213104248046875\n",
      "0.0 0.20330810546875\n",
      "0.0 0.200439453125\n",
      "0.0 0.2049560546875\n",
      "0.0 0.211212158203125\n",
      "0.0 0.215728759765625\n",
      "0.0 0.219635009765625\n",
      "0.0 0.220306396484375\n",
      "0.0 0.214141845703125\n",
      "0.0 0.21099853515625\n",
      "0.0 0.20538330078125\n",
      "0.0 0.2117919921875\n",
      "0.0 0.216064453125\n",
      "0.0 0.223052978515625\n",
      "0.0 0.2225799560546875\n",
      "0.0 0.2216033935546875\n",
      "0.0 0.2232666015625\n",
      "0.0 0.2234039306640625\n",
      "0.0 0.22430419921875\n",
      "0.0 0.2239227294921875\n",
      "0.0 0.2214813232421875\n",
      "0.0 0.2197418212890625\n",
      "0.0 0.221954345703125\n",
      "0.0 0.22100830078125\n",
      "0.0 0.22076416015625\n",
      "0.0 0.2200164794921875\n",
      "0.0 0.2212677001953125\n",
      "0.0 0.22442626953125\n",
      "0.0 0.2206268310546875\n",
      "0.0 0.2238616943359375\n",
      "0.0 0.217987060546875\n",
      "0.0 0.215606689453125\n",
      "0.0 0.2152099609375\n",
      "0.0 0.2178955078125\n",
      "0.0 0.21734619140625\n",
      "0.0 0.21124267578125\n",
      "0.0 0.2119140625\n",
      "0.0 0.2125244140625\n",
      "0.0 0.2154541015625\n",
      "0.0 0.21051025390625\n",
      "0.0 0.20928955078125\n",
      "0.0 0.211090087890625\n",
      "0.0 0.208099365234375\n",
      "0.0 0.205718994140625\n",
      "0.0 0.2052001953125\n",
      "0.0 0.2066650390625\n",
      "0.0 0.2086181640625\n",
      "0.0 0.209228515625\n",
      "0.0 0.204071044921875\n",
      "0.0 0.206573486328125\n",
      "0.0 0.207305908203125\n",
      "0.0 0.2099609375\n",
      "0.0 0.20709228515625\n",
      "0.0 0.208709716796875\n",
      "0.0 0.210296630859375\n",
      "0.0 0.21099853515625\n",
      "0.0 0.210235595703125\n",
      "0.0 0.209442138671875\n",
      "0.0 0.21197509765625\n",
      "0.0 0.21112060546875\n",
      "0.0 0.209320068359375\n",
      "0.0 0.20843505859375\n",
      "0.0 0.209686279296875\n",
      "0.0 0.208160400390625\n",
      "0.0 0.2093505859375\n",
      "0.0 0.214935302734375\n",
      "0.0 0.214569091796875\n",
      "0.0 0.216461181640625\n",
      "0.0 0.2171630859375\n",
      "0.0 0.2212677001953125\n",
      "0.0 0.21783447265625\n",
      "0.0 0.2169189453125\n",
      "0.0 0.218994140625\n",
      "0.0 0.2204437255859375\n",
      "0.0 0.2203216552734375\n",
      "0.0 0.2196807861328125\n",
      "0.0 0.2208251953125\n",
      "0.0 0.2257232666015625\n",
      "0.0 0.2239532470703125\n",
      "0.0 0.224334716796875\n",
      "0.0 0.2253570556640625\n",
      "0.0 0.224884033203125\n",
      "0.0 0.2235107421875\n",
      "0.0 0.22137451171875\n",
      "0.0 0.223358154296875\n",
      "0.0 0.22418212890625\n",
      "0.0 0.22528076171875\n",
      "0.0 0.22686767578125\n",
      "0.0 0.22662353515625\n",
      "0.0 0.2264862060546875\n",
      "0.0 0.2281341552734375\n",
      "0.0 0.229461669921875\n",
      "0.0 0.229461669921875\n",
      "0.0 0.231964111328125\n",
      "0.0 0.2324371337890625\n",
      "0.0 0.231658935546875\n",
      "0.0 0.231719970703125\n",
      "0.0 0.229461669921875\n",
      "0.0 0.230316162109375\n",
      "0.0 0.229827880859375\n",
      "0.0 0.231414794921875\n",
      "0.0 0.2303619384765625\n",
      "0.0 0.2288360595703125\n",
      "0.0 0.2310028076171875\n",
      "0.0 0.2331695556640625\n",
      "0.0 0.233001708984375\n",
      "0.0 0.233551025390625\n",
      "0.0 0.2333984375\n",
      "0.0 0.23491668701171875\n",
      "0.0 0.234222412109375\n",
      "0.0 0.2347869873046875\n",
      "0.0 0.234344482421875\n",
      "0.0 0.234832763671875\n",
      "0.0 0.23438262939453125\n",
      "0.0 0.234039306640625\n",
      "0.0 0.233306884765625\n",
      "0.0 0.232086181640625\n",
      "0.0 0.2326202392578125\n",
      "0.0 0.2317962646484375\n",
      "0.0 0.2317047119140625\n",
      "0.0 0.23223876953125\n",
      "0.0 0.232879638671875\n",
      "0.0 0.232452392578125\n",
      "0.0 0.2328948974609375\n",
      "0.0 0.2313079833984375\n",
      "0.0 0.23272705078125\n",
      "0.0 0.232879638671875\n",
      "0.0 0.23458099365234375\n",
      "0.0 0.2354736328125\n",
      "0.0 0.23519134521484375\n",
      "0.0 0.23534393310546875\n",
      "0.0 0.23482513427734375\n",
      "0.0 0.23546600341796875\n",
      "0.0 0.23522186279296875\n",
      "0.0 0.2357635498046875\n",
      "0.0 0.23624420166015625\n",
      "0.0 0.236053466796875\n",
      "0.0 0.23555755615234375\n",
      "0.0 0.235321044921875\n",
      "0.0 0.23442840576171875\n",
      "0.0 0.23444366455078125\n",
      "0.0 0.2351837158203125\n",
      "0.0 0.2342376708984375\n",
      "0.0 0.23333740234375\n"
     ]
    }
   ],
   "source": [
    "camera.observe(execute, names='value')"
   ]
  },
  {
   "cell_type": "markdown",
   "metadata": {},
   "source": [
    "Awesome! If your robot is plugged in it should now be generating new commands with each new camera frame. \n",
    "\n",
    "You can now place JetBot on  Lego or Track you have collected data on and see whether it can follow track.\n",
    "\n",
    "If you want to stop this behavior, you can unattach this callback by executing the code below."
   ]
  },
  {
   "cell_type": "code",
   "execution_count": 11,
   "metadata": {},
   "outputs": [
    {
     "name": "stdout",
     "output_type": "stream",
     "text": [
      "0.0 0.126953125\n",
      "0.0 0.1273193359375\n"
     ]
    }
   ],
   "source": [
    "import time\n",
    "\n",
    "camera.unobserve(execute, names='value')\n",
    "\n",
    "time.sleep(0.1)  # add a small sleep to make sure frames have finished processing\n",
    "\n",
    "robot.stop()"
   ]
  },
  {
   "cell_type": "markdown",
   "metadata": {},
   "source": [
    "Again, let's close the camera conneciton properly so that we can use the camera in other notebooks."
   ]
  },
  {
   "cell_type": "code",
   "execution_count": 12,
   "metadata": {},
   "outputs": [],
   "source": [
    "camera.stop()"
   ]
  },
  {
   "cell_type": "markdown",
   "metadata": {},
   "source": [
    "### Conclusion\n",
    "That's it for this live demo! Hopefully you had some fun seeing your JetBot moving smoothly on track following the road!!!\n",
    "\n",
    "If your JetBot wasn't following road very well, try to spot where it fails. The beauty is that we can collect more data for these failure scenarios and the JetBot should get even better :)"
   ]
  },
  {
   "cell_type": "code",
   "execution_count": null,
   "metadata": {},
   "outputs": [],
   "source": []
  },
  {
   "cell_type": "code",
   "execution_count": null,
   "metadata": {},
   "outputs": [],
   "source": []
  }
 ],
 "metadata": {
  "kernelspec": {
   "display_name": "Python 3",
   "language": "python",
   "name": "python3"
  },
  "language_info": {
   "codemirror_mode": {
    "name": "ipython",
    "version": 3
   },
   "file_extension": ".py",
   "mimetype": "text/x-python",
   "name": "python",
   "nbconvert_exporter": "python",
   "pygments_lexer": "ipython3",
   "version": "3.6.9"
  }
 },
 "nbformat": 4,
 "nbformat_minor": 4
}
